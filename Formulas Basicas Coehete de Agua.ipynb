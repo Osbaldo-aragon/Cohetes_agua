{
 "cells": [
  {
   "cell_type": "markdown",
   "id": "c113054a",
   "metadata": {},
   "source": [
    "### Fórmulas Básicas de un Cohete de Agua\n",
    "### Osbaldo Aragón-Banderas\n"
   ]
  },
  {
   "cell_type": "markdown",
   "id": "b6bc2564",
   "metadata": {},
   "source": [
    "### 1. Empuje (thrust)\n",
    "El empuje instantaneo se puede expresar por la ley de la conservación del momento y por el término de presión en la tobera:\n",
    "\n",
    "$\n",
    "F = \\dot{m} \\cdot V_e + (p_e - p_a) \\cdot A_e\n",
    "$\n",
    "\n",
    "$F$ -> Empuje (N)\n",
    "\n",
    "$\\dot{m}$ -> Flujo másico del agua (kg/s)\n",
    "\n",
    "$V_e$ -> Velocidad del chorro de agua (m/s)\n",
    "\n",
    "$p_e$ -> presión estática en la salida (Pa)\n",
    "\n",
    "$p_a$ -> presión atmosférica (Pa)\n",
    "\n",
    "$A_e$ -> área de la boquilla ($m^2$)\n",
    "\n"
   ]
  },
  {
   "cell_type": "markdown",
   "id": "8fccbc7c",
   "metadata": {
    "vscode": {
     "languageId": "plaintext"
    }
   },
   "source": [
    "El agua sale prácticamnte a presión ambiente ($p_e = p_a$), por lo que el segundo termino suele ser pequeño y se usa:\n",
    "\n",
    "$F \\approx \\dot{m} \\cdot v_e$"
   ]
  },
  {
   "cell_type": "markdown",
   "id": "f54c2629",
   "metadata": {},
   "source": [
    "### 2. Velocidad de salida del Agua (Bernoulli simplificado)\n",
    "\n",
    "Si la presión interna (del aire comprimido) es $p_{int}$ y la presión ambiente es $p_a$, para flujo de líquido:\n",
    "\n",
    "$v_e \\approx \\sqrt{\\frac{2(p_{int} − p_a)}{\\rho}}$\n",
    "​\n",
    "\n",
    "$\\rho$ = densidad del agua ≈ 1000 kg/m³\n",
    "\n",
    "Esta ecuación viene de una forma simplificada de Bernoulli: la energía por presión se convierte en energía cinética del chorro."
   ]
  },
  {
   "cell_type": "markdown",
   "id": "0031f9c6",
   "metadata": {},
   "source": [
    "### 3. Flujo másico (masa por segundo)\n",
    "\n",
    "Si la boquilla tiene área $A_e$:\n",
    "\n",
    "$\\dot{m}  = \\rho \\cdot A_e \\cdot v_e$\n",
    "\n",
    "Combinando con la $v_e$ anterior (y suponiendo $p_e$ ≈ $p_a$) obtenemos una forma práctica para el empuje:\n",
    "\n",
    "Sustituir $\\dot{m}$ y $v_e$ →\n",
    "$F ≈ \\rho \\cdot A_e \\cdot v_e^2 = \\rho  \\cdot A_e \\cdot [\\frac{2\\cdot(p_{int} − p_a)}{\\rho}] = 2 \\cdot A_e \\cdot (p_{int} − p_a)$\n",
    "\n",
    "Así que, para un chorro líquido ideal, $F ≈ 2 \\cdot A_e \\cdot (\\Delta p)$ donde $\\Delta p = p_{int} − p_a$\n",
    "(Esta última forma es útil para estimaciones rápidas.)"
   ]
  },
  {
   "cell_type": "markdown",
   "id": "2709b2c1",
   "metadata": {},
   "source": [
    "## 4. Ecuación dinámica del cohete (masa variable)\n",
    "\n",
    "El movimiento del cohete viene de la segunda ley (fuerza neta = masa · aceleración), considerando que la masa cambia por el expulsado:\n",
    "\n",
    "$m(t) \\cdot dv/dt = F(t) − m(t) \\cdot g − D(v)$\n",
    "\n",
    "$m(t)$ = masa total del cohete en tiempo t (botella + agua restante + carga)\n",
    "\n",
    "$dv/dt$ = aceleración instantánea\n",
    "\n",
    "$g$ = gravedad ($≈ 9.81 m/s^2$)\n",
    "\n",
    "$D(v)$ = fuerza de arrastre por aire (drag), típicamente $~ \\frac {1}{2}\\cdot \\rho_{aire} \\cdot C_d \\cdot A_{front}\\cdot v^2$\n",
    "\n",
    "Si ignoras drag durante el empuje (aprox. corto) y conoces F(t) y m(t), puedes integrar numéricamente para obtener $v(t)$."
   ]
  },
  {
   "cell_type": "markdown",
   "id": "f0494b1c",
   "metadata": {},
   "source": []
  }
 ],
 "metadata": {
  "language_info": {
   "name": "python"
  }
 },
 "nbformat": 4,
 "nbformat_minor": 5
}
