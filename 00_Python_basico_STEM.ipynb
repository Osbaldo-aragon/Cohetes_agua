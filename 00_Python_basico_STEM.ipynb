{
  "cells": [
    {
      "cell_type": "markdown",
      "metadata": {},
      "source": [
        "# Python Básico para Ingeniería (STEM + Cohetes de Agua)\n",
        "\n",
        "Este cuaderno te guía paso a paso para comprender el funcionamiento esencial de Python con **explicaciones sencillas** y **ejercicios prácticos**. Está pensado para alumnos de ingeniería y conecta algunos ejemplos con el proyecto de **cohete de agua** (presión, conversión de unidades, gráficas simples).\n",
        "\n",
        "**Requisitos:** Tener instalado Python (o usar VS Code con la extensión de Jupyter) y ejecutar celda por celda (Shift + Enter)."
      ]
    },
    {
      "cell_type": "markdown",
      "metadata": {},
      "source": [
        "## 0) ¿Cómo usar este cuaderno?\n",
        "1. Lee la explicación.\n",
        "2. Ejecuta la celda de ejemplo.\n",
        "3. Resuelve el **Ejercicio** que aparece al final de cada sección.\n",
        "4. Si hay una celda llamada **Posible solución**, ejecútala después de intentar el ejercicio."
      ]
    },
    {
      "cell_type": "code",
      "execution_count": null,
      "metadata": {},
      "outputs": [],
      "source": [
        "# Prueba rápida: ejecuta esta celda\n",
        "print('¡Bienvenido/a! Python está funcionando correctamente.')"
      ]
    },
    {
      "cell_type": "markdown",
      "metadata": {},
      "source": [
        "## 1) Python como calculadora\n",
        "Python puede sumar, restar, multiplicar, dividir y trabajar con potencias y raíces."
      ]
    },
    {
      "cell_type": "code",
      "execution_count": null,
      "metadata": {},
      "outputs": [],
      "source": [
        "# Operaciones básicas\n",
        "suma = 2 + 3\n",
        "resta = 10 - 4\n",
        "producto = 6 * 7\n",
        "division = 22 / 7        # división real\n",
        "entera = 22 // 7         # división entera\n",
        "modulo = 22 % 7          # residuo\n",
        "potencia = 3 ** 4        # 3^4\n",
        "raiz = 16 ** 0.5\n",
        "\n",
        "print(suma, resta, producto, division)\n",
        "print(entera, modulo, potencia, raiz)"
      ]
    },
    {
      "cell_type": "markdown",
      "metadata": {},
      "source": [
        "### 🔧 Ejercicio 1\n",
        "Calcula el **área** y el **perímetro** de un rectángulo de base `b=4.5` y altura `h=2.3`. Guarda los resultados en variables `area` y `perimetro` y muéstralos."
      ]
    },
    {
      "cell_type": "code",
      "execution_count": null,
      "id": "f16de83d",
      "metadata": {},
      "outputs": [],
      "source": [
        "# Ejercicio"
      ]
    },
    {
      "cell_type": "markdown",
      "metadata": {},
      "source": [
        "## 2) Variables y tipos de datos\n",
        "Los tipos básicos son: `int` (entero), `float` (real), `str` (texto), `bool` (lógico)."
      ]
    },
    {
      "cell_type": "code",
      "execution_count": null,
      "metadata": {},
      "outputs": [],
      "source": [
        "# Tipos en acción\n",
        "n = 10               # int\n",
        "x = 3.1416           # float\n",
        "nombre = 'Ada'       # str\n",
        "aprobado = True      # bool\n",
        "\n",
        "print(type(n), type(x), type(nombre), type(aprobado))"
      ]
    },
    {
      "cell_type": "markdown",
      "metadata": {},
      "source": [
        "### 🔧 Ejercicio 2\n",
        "Convierte el entero `n = 7` a `float` y el real `y = 5.0` a `int`. Imprime los tipos resultantes."
      ]
    },
    {
      "cell_type": "code",
      "execution_count": null,
      "id": "c2434a0a",
      "metadata": {},
      "outputs": [],
      "source": [
        "# Ejercicio"
      ]
    },
    {
      "cell_type": "markdown",
      "metadata": {},
      "source": [
        "## 3) Cadenas de texto (`str`)\n",
        "Puedes concatenar (`+`), repetir (`*`) y formatear cadenas."
      ]
    },
    {
      "cell_type": "code",
      "execution_count": null,
      "metadata": {},
      "outputs": [],
      "source": [
        "saludo = 'Hola'\n",
        "quien = 'mundo'\n",
        "print(saludo + ' ' + quien)\n",
        "print('-' * 20)\n",
        "# Formato moderno f-string\n",
        "nombre = 'Lola'\n",
        "edad = 30\n",
        "print(f'Me llamo {nombre} y tengo {edad} años.')"
      ]
    },
    {
      "cell_type": "markdown",
      "metadata": {},
      "source": [
        "### 🔧 Ejercicio 3\n",
        "Usa una **f-string** para imprimir: `La presión es 120 psi (≈ 827,370 Pa)`.\n",
        "\n",
        "*(Pista: 1 psi ≈ 6894.76 Pa)*"
      ]
    },
    {
      "cell_type": "code",
      "execution_count": 6,
      "id": "4fca6b1f",
      "metadata": {},
      "outputs": [],
      "source": [
        "# Ejercicio"
      ]
    },
    {
      "cell_type": "markdown",
      "metadata": {},
      "source": [
        "## 4) Condicionales: `if`, `elif`, `else`\n",
        "Permiten tomar decisiones según condiciones lógicas."
      ]
    },
    {
      "cell_type": "code",
      "execution_count": null,
      "metadata": {},
      "outputs": [],
      "source": [
        "presion_psi = 90\n",
        "if presion_psi >= 120:\n",
        "    print('Alerta: presión al límite del lanzador!')\n",
        "elif presion_psi >= 60:\n",
        "    print('Presión operativa segura.')\n",
        "else:\n",
        "    print('Presión baja.')"
      ]
    },
    {
      "cell_type": "markdown",
      "metadata": {},
      "source": [
        "### 🔧 Ejercicio 4\n",
        "Escribe un condicional que clasifique una temperatura `T` en °C como: **Fría (<15)**, **Media (15–30)**, **Caliente (>30)**."
      ]
    },
    {
      "cell_type": "markdown",
      "metadata": {},
      "source": [
        "## 5) Bucles: `for` y `while`\n",
        "Se usan para repetir acciones."
      ]
    },
    {
      "cell_type": "code",
      "execution_count": null,
      "metadata": {},
      "outputs": [],
      "source": [
        "# for recorre colecciones\n",
        "for i in range(5):\n",
        "    print('i =', i)\n",
        "\n",
        "# while repite hasta que se cumpla una condición\n",
        "contador = 3\n",
        "while contador > 0:\n",
        "    print('Despegue en', contador)\n",
        "    contador -= 1\n",
        "print('¡Despegue!')"
      ]
    },
    {
      "cell_type": "markdown",
      "metadata": {},
      "source": [
        "### 🔧 Ejercicio 5\n",
        "Usa un `for` para sumar los números del 1 al 100 y guarda el resultado en `suma_100`."
      ]
    },
    {
      "cell_type": "markdown",
      "metadata": {},
      "source": [
        "## 6) Colecciones: listas, tuplas, conjuntos y diccionarios"
      ]
    },
    {
      "cell_type": "code",
      "execution_count": null,
      "metadata": {},
      "outputs": [],
      "source": [
        "# Lista (mutable)\n",
        "lecturas = [1010, 1008, 1005]\n",
        "lecturas.append(1003)\n",
        "print(lecturas)\n",
        "\n",
        "# Tupla (inmutable)\n",
        "coordenadas = (0, 0, 10)\n",
        "print(coordenadas)\n",
        "\n",
        "# Conjunto (únicos)\n",
        "valores = {1, 2, 2, 3}\n",
        "print(valores)\n",
        "\n",
        "# Diccionario (clave: valor)\n",
        "sensor = {'modelo':'BMP180', 'unidades':'Pa', 'frecuencia_hz':10}\n",
        "print(sensor['modelo'], sensor['frecuencia_hz'])"
      ]
    },
    {
      "cell_type": "markdown",
      "metadata": {},
      "source": [
        "### 🔧 Ejercicio 6\n",
        "Crea una lista con 5 lecturas de presión (en Pa). Calcula el **promedio** manualmente (sin usar librerías) y muéstralo con 2 decimales."
      ]
    },
    {
      "cell_type": "markdown",
      "metadata": {},
      "source": [
        "## 7) Funciones\n",
        "Agrupan código reutilizable."
      ]
    },
    {
      "cell_type": "code",
      "execution_count": null,
      "metadata": {},
      "outputs": [],
      "source": [
        "def psi_a_pa(psi: float) -> float:\n",
        "    \"\"\"Convierte psi a Pascales.\"\"\"\n",
        "    return psi * 6894.76\n",
        "\n",
        "print(psi_a_pa(120))"
      ]
    },
    {
      "cell_type": "markdown",
      "metadata": {},
      "source": [
        "### 🔧 Ejercicio 7\n",
        "Escribe una función `celsius_a_kelvin(Tc)` que convierta °C a K."
      ]
    },
    {
      "cell_type": "markdown",
      "metadata": {},
      "source": [
        "## 8) Comprensiones de lista\n",
        "Forma compacta de crear listas."
      ]
    },
    {
      "cell_type": "code",
      "execution_count": null,
      "metadata": {},
      "outputs": [],
      "source": [
        "cuadrados = [i*i for i in range(10)]\n",
        "pares = [i for i in range(20) if i % 2 == 0]\n",
        "cuadrados, pares"
      ]
    },
    {
      "cell_type": "markdown",
      "metadata": {},
      "source": [
        "### 🔧 Ejercicio 8\n",
        "A partir de `psilist = [60, 80, 100, 120]`, crea una nueva lista en Pascales usando una **list comprehension** y `psi_a_pa`."
      ]
    },
    {
      "cell_type": "markdown",
      "metadata": {},
      "source": [
        "## 9) Módulos: `math`, `random`\n",
        "Puedes importar librerías estándar para más funciones."
      ]
    },
    {
      "cell_type": "code",
      "execution_count": null,
      "metadata": {},
      "outputs": [],
      "source": [
        "import math, random\n",
        "print('pi =', math.pi)\n",
        "print('raíz(2) =', math.sqrt(2))\n",
        "print('Número aleatorio [0,1):', random.random())"
      ]
    },
    {
      "cell_type": "markdown",
      "metadata": {},
      "source": [
        "## 10) Manejo de errores: `try` / `except`\n",
        "Útil para validar entradas o fallas de sensores."
      ]
    },
    {
      "cell_type": "code",
      "execution_count": null,
      "metadata": {},
      "outputs": [],
      "source": [
        "def leer_presion_segura(valor):\n",
        "    try:\n",
        "        p = float(valor)\n",
        "        return p\n",
        "    except ValueError:\n",
        "        print('Error: el valor no es numérico')\n",
        "        return None\n",
        "\n",
        "print(leer_presion_segura('101325'))\n",
        "print(leer_presion_segura('no-numérico'))"
      ]
    },
    {
      "cell_type": "markdown",
      "metadata": {},
      "source": [
        "## 11) Archivos: guardar y leer `.csv`\n",
        "Simulemos guardar lecturas de presión a un archivo y luego leerlo."
      ]
    },
    {
      "cell_type": "code",
      "execution_count": null,
      "metadata": {},
      "outputs": [],
      "source": [
        "lecturas = [101325, 101300, 101340]\n",
        "# Guardar\n",
        "with open('presiones.csv', 'w') as f:\n",
        "    f.write('presion_Pa\\n')\n",
        "    for p in lecturas:\n",
        "        f.write(str(p) + '\\n')\n",
        "\n",
        "# Leer\n",
        "with open('presiones.csv', 'r') as f:\n",
        "    contenido = f.read()\n",
        "print(contenido)"
      ]
    },
    {
      "cell_type": "markdown",
      "metadata": {},
      "source": [
        "## 12) Numpy y Matplotlib (intro rápida)\n",
        "`numpy` facilita el cálculo numérico y `matplotlib` permite graficar."
      ]
    },
    {
      "cell_type": "code",
      "execution_count": null,
      "id": "21f49a1e",
      "metadata": {},
      "outputs": [],
      "source": [
        "%pip install numpy"
      ]
    },
    {
      "cell_type": "code",
      "execution_count": null,
      "id": "1099b814",
      "metadata": {},
      "outputs": [],
      "source": [
        "import numpy as np\n",
        "import matplotlib.pyplot as plt\n",
        "\n",
        "# Señal simple\n",
        "t = np.linspace(0, 2, 200)\n",
        "y = np.sin(2*np.pi*1*t)  # 1 Hz\n",
        "\n",
        "plt.figure()\n",
        "plt.plot(t, y)\n",
        "plt.title('Señal senoidal 1 Hz')\n",
        "plt.xlabel('Tiempo [s]')\n",
        "plt.ylabel('Amplitud')\n",
        "plt.show()"
      ]
    },
    {
      "cell_type": "markdown",
      "metadata": {},
      "source": [
        "## 13) Mini‑proyecto: conversiones y estimaciones para un cohete de agua\n",
        "**Objetivo:** practicar funciones, listas, `numpy` y una gráfica sencilla.\n",
        "\n",
        "Supondrás un cohete con:\n",
        "- Presión de carga: `120 psi`\n",
        "- Botella de `2.0 L` con `1/3` de agua (≈ `0.667 L` de agua)\n",
        "\n",
        "Tareas:\n",
        "1. Convierte `120 psi` a Pascales.\n",
        "2. Genera una lista de presiones de 60 a 120 psi cada 10 psi y conviértelas a Pa.\n",
        "3. Grafica la presión (Pa) contra el índice de la lista."
      ]
    },
    {
      "cell_type": "code",
      "execution_count": null,
      "metadata": {
        "tags": [
          "solution"
        ]
      },
      "outputs": [],
      "source": [
        "import numpy as np\n",
        "import matplotlib.pyplot as plt\n",
        "\n",
        "# 1) Conversión\n",
        "p_psi = 120\n",
        "p_pa = psi_a_pa(p_psi)\n",
        "print(f'120 psi ≈ {p_pa:,.0f} Pa')\n",
        "\n",
        "# 2) Lista de presiones y conversión\n",
        "ejes_psi = list(range(60, 121, 10))\n",
        "ejes_pa = [psi_a_pa(p) for p in ejes_psi]\n",
        "print('psi -> Pa:', list(zip(ejes_psi, [round(v) for v in ejes_pa])))\n",
        "\n",
        "# 3) Gráfica\n",
        "plt.figure()\n",
        "plt.plot(ejes_pa, marker='o')\n",
        "plt.title('Presión de cámara (Pa)')\n",
        "plt.xlabel('Muestra')\n",
        "plt.ylabel('Presión [Pa]')\n",
        "plt.grid(True)\n",
        "plt.show()"
      ]
    },
    {
      "cell_type": "markdown",
      "metadata": {},
      "source": [
        "## 14) Bonus: clase simple (POO)\n",
        "Las **clases** agrupan datos y funciones relacionadas."
      ]
    },
    {
      "cell_type": "code",
      "execution_count": null,
      "metadata": {},
      "outputs": [],
      "source": [
        "class RegistroPresion:\n",
        "    def __init__(self):\n",
        "        self.datos = []\n",
        "    def agregar(self, p_pa: float):\n",
        "        self.datos.append(p_pa)\n",
        "    def promedio(self):\n",
        "        return sum(self.datos)/len(self.datos) if self.datos else 0\n",
        "\n",
        "r = RegistroPresion()\n",
        "for p in [101300, 101250, 101400]:\n",
        "    r.agregar(p)\n",
        "print('Promedio:', r.promedio())"
      ]
    }
  ],
  "metadata": {
    "kernelspec": {
      "display_name": "Python 3",
      "language": "python",
      "name": "python3"
    },
    "language_info": {
      "codemirror_mode": {
        "name": "ipython",
        "version": 3
      },
      "file_extension": ".py",
      "mimetype": "text/x-python",
      "name": "python",
      "nbconvert_exporter": "python",
      "pygments_lexer": "ipython3",
      "version": "3.12.3"
    }
  },
  "nbformat": 4,
  "nbformat_minor": 5
}
