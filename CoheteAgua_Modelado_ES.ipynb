{
 "cells": [
  {
   "cell_type": "markdown",
   "id": "bf178c38",
   "metadata": {},
   "source": [
    "\n",
    "## Proyecto: Modelado Matemático de un **Cohete de Agua** (Jupyter Notebook)\n",
    "**Autor:** Osbaldo Aragón \n",
    "\n",
    "**Fecha:** 2025-10-23  \n",
    "\n",
    "**Curso:** STEM – Python + Cohetes de Agua + ESP32\n",
    "\n",
    "## Objetivo\n",
    "Desarrollar un **modelo matemático y una simulación** para estimar:\n",
    "- La **altura máxima (apogeo)** del cohete.\n",
    "- El **tiempo de expulsión de agua** (fase de empuje).\n",
    "- La **velocidad en función del tiempo**, junto con la altura vs tiempo.\n",
    "- Variables ajustables: presión inicial, fracción de agua, diámetro de tobera, masa seca, coeficiente de arrastre, etc."
   ]
  },
  {
   "cell_type": "markdown",
   "id": "7dc712b6",
   "metadata": {},
   "source": [
    "\n",
    "## Requisitos\n",
    "- Python 3.9+\n",
    "- Paquetes: `numpy`, `matplotlib`, `scipy` (opcional). En este notebook usaremos `numpy` y `matplotlib`.\n",
    "- VS Code con la extensión **Jupyter**.\n"
   ]
  },
  {
   "cell_type": "markdown",
   "id": "1733ff51",
   "metadata": {},
   "source": [
    "\n",
    "## Modelo físico (resumen de hipótesis)\n",
    "Modelaremos dos fases principales:\n",
    "1. **Fase de expulsión de agua (empuje)**: la **presión del aire comprimido** dentro de la botella impulsa el agua a través de la **tobera**.  \n",
    "   - El aire se expande **politrópicamente**: $P V^{n} = \\text{cte}$ (usaremos $\\approx 1.2$ como aproximación adiabática suave).\n",
    "   - La velocidad de chorro del agua se aproxima con **Bernoulli**:  \n",
    "     $v_e = \\sqrt{2 (P_{int} - P_{atm}) / \\rho_{agua}}$\n",
    "   - Gasto volumétrico $Q = A_{tobera} \\, v_e$, $\\dot m = \\rho_{agua} \\, Q$\n",
    "   - Empuje: $T \\approx \\dot m \\, v_e$ (suponiendo presión de salida $\\approx P_{atm}$).\n",
    "2. **Fase de ascenso balístico (sin empuje)**: tras agotar el agua, el cohete asciende por inercia con **arrastre aerodinámico**:  \n",
    "   $D = \\tfrac{1}{2} \\rho_{aire} C_d A_{ref} v^2$\n",
    "\n",
    "**Ecuaciones de movimiento (vertical, sin viento):**\n",
    "- Durante empuje: $ m(t) \\, \\dot v = T - m(t) g - D(v)$, y $\\dot h = v $\n",
    "- Durante ascenso libre: $ m = \\text{constante (masa seca)} $, $ \\dot v = -g - D(v)/m $, $\\dot h = v $\n",
    "\n",
    "**Actualización de presión interna durante el empuje:**\n",
    "- El volumen de aire $V_a$ aumenta conforme sale el agua: $ V_a(t) = V_{a0} + (V_{botella} - V_{agua}(t)) - (V_{botella} - V_{agua0}) $.  \n",
    "- Por politrópica: $ P_{int}(t) = P_{0,abs} \\big(\\tfrac{V_{a0}}{V_a(t)}\\big)^{n} $.  \n",
    "  Aquí $P_{0,abs} = P_{atm} + P_{gauge}$ es la presión absoluta inicial.\n",
    "\n",
    "> **Simplificación**: ignoramos la pequeña fase de “chorro de aire” tras agotar el agua; su contribución al empuje suele ser pequeña con cuellos típicos.\n"
   ]
  },
  {
   "cell_type": "markdown",
   "id": "461df9ca",
   "metadata": {},
   "source": [
    "\n",
    "## Parámetros de entrada\n",
    "Sugerencia de valores iniciales para una **botella de 2 L**:\n",
    "- Volumen total botella `V_b = 2.0e-3 m³` (2 L).\n",
    "- Fracción de agua inicial `f_w = 1/3` (≈ 0.666 L).\n",
    "- Presión manométrica inicial (gauge) `P_gauge = 120 psi` (≈ 413,500 Pa).\n",
    "- Presión atmosférica `P_atm = 101,325 Pa`.\n",
    "- Diámetro de tobera `d_noz = 5 mm`.\n",
    "- Masa seca (botella+estructura) `m_dry` (ej. 0.15–0.25 kg).\n",
    "- Coeficiente de arrastre `C_d` (ej. 0.5–0.9) y área de referencia `A_ref` (según geometría).\n",
    "- Exponente politrópico `n ≈ 1.2`.\n"
   ]
  },
  {
   "cell_type": "code",
   "execution_count": 1,
   "id": "570076ba",
   "metadata": {},
   "outputs": [],
   "source": [
    "\n",
    "# === Parámetros ===\n",
    "import numpy as np\n",
    "\n",
    "# Geometría y masas\n",
    "V_b = 2.0e-3          # m^3   volumen botella (2 L)\n",
    "f_w = 1/3             # fracción de agua (ajustable)\n",
    "rho_w = 1000.0        # kg/m^3 densidad del agua\n",
    "m_dry = 0.100         # kg     masa seca (botella + aletas + electrónica)\n",
    "\n",
    "# Tobera\n",
    "d_noz = 10e-3          # m  diámetro de la tobera (10 mm)\n",
    "A_noz = np.pi*(d_noz/2)**2\n",
    "\n",
    "# Presiones\n",
    "P_atm = 101325.0      # Pa\n",
    "P_gauge = 60.0 * 6894.757 # 60 psi -> Pa (1 psi = 6894.757 Pa)\n",
    "P0_abs = P_atm + P_gauge   # Pa presión absoluta inicial dentro\n",
    "\n",
    "# Aire y gravedad\n",
    "rho_air = 0.95      # kg/m^3 a ~28 °C nivel de santiago (aprox.)\n",
    "g = 9.80665           # m/s^2\n",
    "\n",
    "# Arrastre\n",
    "C_d = 0.6             # coeficiente de arrastre (ajustable)\n",
    "A_ref = 0.008         # m^2 área frontal (aprox. botella 90 mm Ø -> A ~ pi*(0.045)^2 ≈ 0.0064–0.008 m^2)\n",
    "\n",
    "# Expansión politrópica\n",
    "n_exp = 1.2           # exponente politrópico (≈ adiabático suave)\n",
    "\n",
    "# Configuración de simulación\n",
    "dt = 1e-4             # s paso de integración fino para fase de agua\n",
    "dt_coast = 1e-3       # s paso para fase balística\n",
    "t_max = 10.0          # s tiempo max de simulación (seguridad)\n"
   ]
  },
  {
   "cell_type": "markdown",
   "id": "d02a7d7e",
   "metadata": {},
   "source": [
    "\n",
    "## Funciones auxiliares\n",
    "Incluye cálculo de:\n",
    "- Presión interna por politrópica.\n",
    "- Velocidad de chorro y caudal.\n",
    "- Fuerza de arrastre (depende de velocidad).\n"
   ]
  },
  {
   "cell_type": "code",
   "execution_count": 2,
   "id": "3cefae4f",
   "metadata": {},
   "outputs": [],
   "source": [
    "\n",
    "def air_pressure_polytropic(P0_abs, Va0, Va, n):\n",
    "    \"\"\"Devuelve P_abs interna por expansión politrópica: P*V^n = cte.\"\"\"\n",
    "    return P0_abs * (Va0 / Va)**n\n",
    "\n",
    "def jet_velocity(P_int_abs, P_atm, rho_w):\n",
    "    \"\"\"Velocidad del chorro por Bernoulli (si P_int > P_atm).\"\"\"\n",
    "    deltaP = max(P_int_abs - P_atm, 0.0)\n",
    "    return np.sqrt(2.0 * deltaP / rho_w)\n",
    "\n",
    "def drag_force(rho, Cd, A, v):\n",
    "    \"\"\"Magnitud de la fuerza de arrastre (opuesta a v): 0.5 * rho * Cd * A * v^2.\"\"\"\n",
    "    return 0.5 * rho * Cd * A * v**2\n"
   ]
  },
  {
   "cell_type": "markdown",
   "id": "8cff4f22",
   "metadata": {},
   "source": [
    "\n",
    "## Simulación: Fase de **expulsión de agua**\n",
    "Integramos en pasos \\(dt\\) hasta que el **volumen de agua llegue a cero** o la **presión ya no pueda expulsarla**.\n",
    "Guardamos (t, h, v, m, P, \\dot m, T) para graficar y calcular el **tiempo de expulsión**.\n"
   ]
  },
  {
   "cell_type": "code",
   "execution_count": 3,
   "id": "81e8741c",
   "metadata": {},
   "outputs": [
    {
     "data": {
      "text/plain": [
       "(0.35129999999997763,\n",
       " np.float64(5.792329920861945),\n",
       " np.float64(41.99634065877217),\n",
       " np.float64(0.1000000000000004))"
      ]
     },
     "execution_count": 3,
     "metadata": {},
     "output_type": "execute_result"
    }
   ],
   "source": [
    "\n",
    "# Estados iniciales\n",
    "V_water0 = V_b * f_w                # m^3\n",
    "Va0 = V_b - V_water0                # m^3 (volumen de aire inicial)\n",
    "m_water0 = rho_w * V_water0         # kg\n",
    "m = m_dry + m_water0                # masa total inicial\n",
    "h = 0.0                             # m altura\n",
    "v = 0.0                             # m/s velocidad\n",
    "t = 0.0                             # s tiempo\n",
    "\n",
    "# Almacenamiento de historial (fase agua)\n",
    "t_list = []\n",
    "h_list = []\n",
    "v_list = []\n",
    "m_list = []\n",
    "P_list = []\n",
    "mdot_list = []\n",
    "T_list = []\n",
    "\n",
    "V_water = V_water0\n",
    "Va = Va0\n",
    "burnout = None\n",
    "\n",
    "while t < t_max and V_water > 0:\n",
    "    # Presión interna por politrópica\n",
    "    P_int = air_pressure_polytropic(P0_abs, Va0, Va, n_exp)\n",
    "    ve = jet_velocity(P_int, P_atm, rho_w)\n",
    "\n",
    "    if ve <= 1e-8:\n",
    "        # Ya no hay deltaP útil para expulsar agua\n",
    "        break\n",
    "\n",
    "    Q = A_noz * ve                     # m^3/s caudal volumétrico\n",
    "    mdot = rho_w * Q                   # kg/s gasto másico (agua saliendo)\n",
    "    T = mdot * ve                      # N empuje (simplificado)\n",
    "\n",
    "    # Fuerza de arrastre (opuesta a v)\n",
    "    D = drag_force(rho_air, C_d, A_ref, abs(v))\n",
    "    D *= np.sign(v)                    # dar dirección (opuesta a v)\n",
    "\n",
    "    # Dinámica (vertical hacia arriba positiva)\n",
    "    # m(t) decrece por salida de agua\n",
    "    a = (T - m*g - (-D)) / m if v >= 0 else (T - m*g + D) / m  # corregimos signo del arrastre\n",
    "    # Nota: más claro: fuerza neta = T - m*g - D*sign(v)\n",
    "    F_net = T - m*g - D*np.sign(v) if v != 0 else T - m*g\n",
    "    a = F_net / m\n",
    "\n",
    "    # Integración explícita (Euler)\n",
    "    v = v + a*dt\n",
    "    h = max(h + v*dt, 0.0)\n",
    "\n",
    "    # Actualizar agua/masa/volúmenes\n",
    "    dVw = Q * dt\n",
    "    if dVw > V_water:\n",
    "        dVw = V_water  # evitar pasar de cero\n",
    "    V_water -= dVw\n",
    "    Va = V_b - V_water\n",
    "    dm = rho_w * dVw\n",
    "    m -= dm\n",
    "\n",
    "    # Guardar\n",
    "    t_list.append(t)\n",
    "    h_list.append(h)\n",
    "    v_list.append(v)\n",
    "    m_list.append(m)\n",
    "    P_list.append(P_int)\n",
    "    mdot_list.append(mdot)\n",
    "    T_list.append(T)\n",
    "\n",
    "    # Avanzar tiempo\n",
    "    t += dt\n",
    "\n",
    "# Tiempo de expulsión de agua\n",
    "t_burn = t\n",
    "burnout = (t, h, v, m)\n",
    "t_burn, h, v, m\n"
   ]
  },
  {
   "cell_type": "markdown",
   "id": "4ec2d281",
   "metadata": {},
   "source": [
    "\n",
    "## Simulación: Fase **balística** (sin empuje)\n",
    "Tras el agotamiento del agua, integramos con arrastre y gravedad hasta que la **velocidad cambia de signo** (apogeo).\n"
   ]
  },
  {
   "cell_type": "code",
   "execution_count": 4,
   "id": "bae30f4d",
   "metadata": {},
   "outputs": [
    {
     "data": {
      "text/plain": [
       "(np.float64(41.48351503172491), 0.35129999999997763, 2.703299999999791)"
      ]
     },
     "execution_count": 4,
     "metadata": {},
     "output_type": "execute_result"
    }
   ],
   "source": [
    "\n",
    "# Estados al inicio del coast\n",
    "t_c = t_burn\n",
    "h_c = burnout[1]\n",
    "v_c = burnout[2]\n",
    "m_c = burnout[3]  # ~ m_dry si todo el agua se agotó\n",
    "\n",
    "t2_list = []\n",
    "h2_list = []\n",
    "v2_list = []\n",
    "\n",
    "t = t_c\n",
    "h = h_c\n",
    "v = v_c\n",
    "m = m_c\n",
    "\n",
    "apogee_reached = False\n",
    "while t < t_max and not apogee_reached:\n",
    "    # Fuerza de arrastre\n",
    "    D = drag_force(rho_air, C_d, A_ref, abs(v))\n",
    "    # Ecuaciones de movimiento sin empuje\n",
    "    F_net = -m*g - D*np.sign(v) if v != 0 else -m*g\n",
    "    a = F_net / m\n",
    "\n",
    "    v = v + a*dt_coast\n",
    "    h = h + v*dt_coast\n",
    "    if h < 0:\n",
    "        h = 0\n",
    "        v = 0\n",
    "        apogee_reached = True\n",
    "\n",
    "    t += dt_coast\n",
    "    t2_list.append(t)\n",
    "    h2_list.append(h)\n",
    "    v2_list.append(v)\n",
    "\n",
    "    # Apogeo (cuando v cruza 0 de + a -)\n",
    "    if len(v2_list) > 2 and v2_list[-2] > 0 and v2_list[-1] <= 0:\n",
    "        apogee_reached = True\n",
    "\n",
    "# Altura máxima\n",
    "h_apogee = max(h_list + h2_list) if (h2_list) else max(h_list)\n",
    "t_total = (t2_list[-1] if t2_list else t_burn)\n",
    "h_apogee, t_burn, t_total\n"
   ]
  },
  {
   "cell_type": "markdown",
   "id": "c2b29b7c",
   "metadata": {},
   "source": [
    "\n",
    "## Resultados numéricos\n",
    "- **Tiempo de expulsión de agua** (aprox): `t_burn`  \n",
    "- **Altura máxima (apogeo)**: `h_apogee`  \n",
    "- **Tiempo total hasta apogeo**: `t_total`  \n",
    "> Recuerda: estos valores dependen fuertemente de los parámetros (tobera, presión, fracción de agua, masa seca, Cd, A_ref, etc.).\n"
   ]
  },
  {
   "cell_type": "code",
   "execution_count": 5,
   "id": "7ab532c6",
   "metadata": {},
   "outputs": [
    {
     "name": "stdout",
     "output_type": "stream",
     "text": [
      "Tiempo expulsión de agua (s): 0.3513\n",
      "Altura máxima (m): 41.48\n",
      "Tiempo hasta apogeo (s): 2.70\n"
     ]
    }
   ],
   "source": [
    "\n",
    "print(f\"Tiempo expulsión de agua (s): {t_burn:.4f}\")\n",
    "print(f\"Altura máxima (m): {h_apogee:.2f}\")\n",
    "print(f\"Tiempo hasta apogeo (s): {t_total:.2f}\")\n"
   ]
  },
  {
   "cell_type": "markdown",
   "id": "6735cb17",
   "metadata": {},
   "source": [
    "\n",
    "## Gráficas principales\n",
    "Se generan las gráficas de **velocidad vs tiempo** y **altura vs tiempo**, indicando el fin de la fase de agua.\n"
   ]
  },
  {
   "cell_type": "code",
   "execution_count": 6,
   "id": "a68f4246",
   "metadata": {},
   "outputs": [
    {
     "data": {
      "image/png": "[encoded data removed]",
      "text/plain": [
       "<Figure size 640x480 with 1 Axes>"
      ]
     },
     "metadata": {},
     "output_type": "display_data"
    },
    {
     "data": {
      "image/png": "[encoded data removed]",
      "text/plain": [
       "<Figure size 640x480 with 1 Axes>"
      ]
     },
     "metadata": {},
     "output_type": "display_data"
    }
   ],
   "source": [
    "\n",
    "import matplotlib.pyplot as plt\n",
    "\n",
    "# Concatenar series para gráficas completas\n",
    "t_all = np.array(t_list + t2_list)\n",
    "v_all = np.array(v_list + v2_list)\n",
    "h_all = np.array(h_list + h2_list)\n",
    "\n",
    "# Marcas de burnout\n",
    "t_b = t_burn\n",
    "\n",
    "# Velocidad vs Tiempo\n",
    "plt.figure()\n",
    "plt.plot(t_all, v_all, label='v(t)')\n",
    "plt.axvline(t_b, linestyle='--', label='Fin expulsión agua')\n",
    "plt.xlabel('Tiempo (s)')\n",
    "plt.ylabel('Velocidad (m/s)')\n",
    "plt.title('Velocidad vs Tiempo (Cohete de Agua)')\n",
    "plt.legend()\n",
    "plt.show()\n",
    "\n",
    "# Altura vs Tiempo\n",
    "plt.figure()\n",
    "plt.plot(t_all, h_all, label='h(t)')\n",
    "plt.axvline(t_b, linestyle='--', label='Fin expulsión agua')\n",
    "plt.xlabel('Tiempo (s)')\n",
    "plt.ylabel('Altura (m)')\n",
    "plt.title('Altura vs Tiempo (Cohete de Agua)')\n",
    "plt.legend()\n",
    "plt.show()\n"
   ]
  },
  {
   "cell_type": "markdown",
   "id": "d925865a",
   "metadata": {},
   "source": [
    "\n",
    "## Exploración paramétrica (opcional)\n",
    "Pequeña función para explorar rápidamente **cómo cambia el apogeo** con parámetros clave (ej. presión o fracción de agua).  \n",
    "> Sugerencia de actividad: pedir a los alumnos barrer **fracción de agua** y **diámetro de tobera** para identificar combinaciones que maximizan altura sin perder estabilidad.\n"
   ]
  },
  {
   "cell_type": "code",
   "execution_count": 7,
   "id": "c456b9ce",
   "metadata": {},
   "outputs": [
    {
     "name": "stdout",
     "output_type": "stream",
     "text": [
      "Apogeo estimado (m): 63.11 | Tiempo de expulsión (s): 0.9723\n"
     ]
    }
   ],
   "source": [
    "\n",
    "def sim_apogee(P_gauge_psi=None, frac_water=None, d_noz_mm=None):\n",
    "    # Copia de parámetros base (simple, no OOP para mayor claridad)\n",
    "    V_b_loc = V_b\n",
    "    rho_w_loc = rho_w\n",
    "    m_dry_loc = m_dry\n",
    "    P_atm_loc = P_atm\n",
    "    g_loc = g\n",
    "    rho_air_loc = rho_air\n",
    "    C_d_loc = C_d\n",
    "    A_ref_loc = A_ref\n",
    "    n_loc = n_exp\n",
    "    dt1 = dt\n",
    "    dt2 = dt_coast\n",
    "\n",
    "    f_w_loc = frac_water if frac_water is not None else f_w\n",
    "    d_noz_loc = (d_noz_mm/1000.0) if d_noz_mm is not None else d_noz\n",
    "    A_noz_loc = np.pi*(d_noz_loc/2)**2\n",
    "\n",
    "    P0_abs_loc = P_atm_loc + ((P_gauge_psi if P_gauge_psi is not None else (P_gauge/6894.757)) * 6894.757)\n",
    "\n",
    "    # Estados iniciales\n",
    "    V_water0 = V_b_loc * f_w_loc\n",
    "    Va0 = V_b_loc - V_water0\n",
    "    m_water0 = rho_w_loc * V_water0\n",
    "    m = m_dry_loc + m_water0\n",
    "    h = 0.0\n",
    "    v = 0.0\n",
    "    t = 0.0\n",
    "    V_water = V_water0\n",
    "    Va = Va0\n",
    "\n",
    "    # Fase agua\n",
    "    while t < t_max and V_water > 0:\n",
    "        P_int = air_pressure_polytropic(P0_abs_loc, Va0, Va, n_loc)\n",
    "        ve = jet_velocity(P_int, P_atm_loc, rho_w_loc)\n",
    "        if ve <= 1e-8:\n",
    "            break\n",
    "        Q = A_noz_loc * ve\n",
    "        mdot = rho_w_loc * Q\n",
    "        T = mdot * ve\n",
    "\n",
    "        D = drag_force(rho_air_loc, C_d_loc, A_ref_loc, abs(v))\n",
    "        F_net = T - m*g_loc - D*np.sign(v) if v != 0 else T - m*g_loc\n",
    "        a = F_net / m\n",
    "\n",
    "        v = v + a*dt1\n",
    "        h = max(h + v*dt1, 0.0)\n",
    "\n",
    "        dVw = Q * dt1\n",
    "        if dVw > V_water:\n",
    "            dVw = V_water\n",
    "        V_water -= dVw\n",
    "        Va = V_b_loc - V_water\n",
    "        dm = rho_w_loc * dVw\n",
    "        m -= dm\n",
    "\n",
    "        t += dt1\n",
    "\n",
    "    t_burn_loc = t\n",
    "    h_burn_loc = h\n",
    "    v_burn_loc = v\n",
    "    m_burn_loc = m\n",
    "\n",
    "    # Fase balística\n",
    "    while t < t_max:\n",
    "        D = drag_force(rho_air_loc, C_d_loc, A_ref_loc, abs(v))\n",
    "        F_net = -m_burn_loc*g_loc - D*np.sign(v) if v != 0 else -m_burn_loc*g_loc\n",
    "        a = F_net / m_burn_loc\n",
    "\n",
    "        v = v + a*dt2\n",
    "        h = h + v*dt2\n",
    "        t += dt2\n",
    "        if h < 0:\n",
    "            h = 0\n",
    "            break\n",
    "        if v <= 0 and t > t_burn_loc + 1e-3:\n",
    "            # apogeo alcanzado\n",
    "            break\n",
    "    return h, t_burn_loc\n",
    "\n",
    "# Ejemplo de uso (rápido)\n",
    "h_est, t_b = sim_apogee(P_gauge_psi=120, frac_water=1/3, d_noz_mm=5)\n",
    "print(f\"Apogeo estimado (m): {h_est:.2f} | Tiempo de expulsión (s): {t_b:.4f}\")\n"
   ]
  },
  {
   "cell_type": "markdown",
   "id": "0647db9f",
   "metadata": {},
   "source": [
    "\n",
    "## Actividades sugeridas para los alumnos\n",
    "1. **Validación experimental:** Comparar apogeo y tiempo de expulsión medidos vs. simulados (usar video y cronómetro).\n",
    "2. **Barridos paramétricos:** Variar `f_w`, `d_noz`, `P_gauge` y `m_dry` para encontrar combinaciones que **maximicen la altura**.\n",
    "3. **Estimación de \\(C_d\\):** Ajustar \\(C_d\\) para que la curva de altura simulada coincida con la experimental (calibración).\n",
    "4. **Reporte técnico:** Incluir supuestos, ecuaciones, parámetros, resultados, discusión de errores y recomendaciones de diseño (aletas, masa, boquilla).\n",
    "5. **Extra (ESP32):** Registrar presión/altitud con un BMP180 y comparar la **curva h(t)** real vs. simulada.\n"
   ]
  },
  {
   "cell_type": "markdown",
   "id": "113c8d18",
   "metadata": {},
   "source": [
    "\n",
    "## Apéndice: Fórmulas clave\n",
    "- **Bernoulli (chorro):** $ v_e = \\sqrt{2 (P_{int} - P_{atm}) / \\rho_w} $\n",
    "- **Politrópica:** $ P\\,V^{n} = \\text{cte} \\Rightarrow P = P_0 \\left(\\frac{V_{a0}}{V_a}\\right)^n $\n",
    "- **Empuje (agua):** $ T \\approx \\dot m\\, v_e,\\ \\dot m = \\rho_w A_{noz} v_e $\n",
    "- **Arrastre:** $ D = \\tfrac{1}{2}\\rho_{air} C_d A_{ref} v^2 $\n",
    "- **Movimiento vertical:** $m \\dot v = \\sum F = T - mg - D\\,\\text{sign}(v);\\ \\dot h = v $\n"
   ]
  }
 ],
 "metadata": {
  "kernelspec": {
   "display_name": "Python 3",
   "language": "python",
   "name": "python3"
  },
  "language_info": {
   "codemirror_mode": {
    "name": "ipython",
    "version": 3
   },
   "file_extension": ".py",
   "mimetype": "text/x-python",
   "name": "python",
   "nbconvert_exporter": "python",
   "pygments_lexer": "ipython3",
   "version": "3.12.3"
  }
 },
 "nbformat": 4,
 "nbformat_minor": 5
}
